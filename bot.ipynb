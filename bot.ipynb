{
 "cells": [
  {
   "cell_type": "code",
   "execution_count": 1,
   "metadata": {},
   "outputs": [],
   "source": [
    "import requests\n",
    "import pandas as pd\n",
    "import json\n",
    "\n",
    "def fetch_data(csv_url=None, json_url=None):\n",
    "    \"\"\"Fetch data from the provided URLs and load it into a DataFrame or JSON.\"\"\"\n",
    "    if csv_url:\n",
    "        response = requests.get(csv_url)\n",
    "        response.raise_for_status()\n",
    "        with open('scraped_data.csv', 'wb') as file:\n",
    "            file.write(response.content)\n",
    "        data = pd.read_csv('scraped_data.csv')\n",
    "    elif json_url:\n",
    "        response = requests.get(json_url)\n",
    "        response.raise_for_status()\n",
    "        data = response.json()\n",
    "        # If the JSON data is in a complex structure, you may need to extract the relevant part\n",
    "        data = pd.json_normalize(data['scraped_text'])\n",
    "    else:\n",
    "        raise ValueError(\"Both CSV and JSON URLs are missing.\")\n",
    "    \n",
    "    return data\n"
   ]
  },
  {
   "cell_type": "code",
   "execution_count": 11,
   "metadata": {},
   "outputs": [
    {
     "name": "stdout",
     "output_type": "stream",
     "text": [
      "Collecting scikit-learn\n",
      "  Downloading scikit_learn-1.5.2-cp312-cp312-win_amd64.whl.metadata (13 kB)\n",
      "Requirement already satisfied: numpy>=1.19.5 in c:\\users\\himan\\appdata\\local\\programs\\python\\python312\\lib\\site-packages (from scikit-learn) (1.26.4)\n",
      "Collecting scipy>=1.6.0 (from scikit-learn)\n",
      "  Downloading scipy-1.14.1-cp312-cp312-win_amd64.whl.metadata (60 kB)\n",
      "Requirement already satisfied: joblib>=1.2.0 in c:\\users\\himan\\appdata\\local\\programs\\python\\python312\\lib\\site-packages (from scikit-learn) (1.3.2)\n",
      "Collecting threadpoolctl>=3.1.0 (from scikit-learn)\n",
      "  Downloading threadpoolctl-3.5.0-py3-none-any.whl.metadata (13 kB)\n",
      "Downloading scikit_learn-1.5.2-cp312-cp312-win_amd64.whl (11.0 MB)\n",
      "   ---------------------------------------- 0.0/11.0 MB ? eta -:--:--\n",
      "   - -------------------------------------- 0.5/11.0 MB 2.8 MB/s eta 0:00:04\n",
      "   ------- -------------------------------- 2.1/11.0 MB 5.1 MB/s eta 0:00:02\n",
      "   ------------ --------------------------- 3.4/11.0 MB 5.3 MB/s eta 0:00:02\n",
      "   -------------------- ------------------- 5.5/11.0 MB 6.5 MB/s eta 0:00:01\n",
      "   ---------------------------- ----------- 7.9/11.0 MB 7.5 MB/s eta 0:00:01\n",
      "   ------------------------------------- -- 10.2/11.0 MB 8.1 MB/s eta 0:00:01\n",
      "   ---------------------------------------- 11.0/11.0 MB 8.0 MB/s eta 0:00:00\n",
      "Downloading scipy-1.14.1-cp312-cp312-win_amd64.whl (44.5 MB)\n",
      "   ---------------------------------------- 0.0/44.5 MB ? eta -:--:--\n",
      "   - -------------------------------------- 2.1/44.5 MB 10.7 MB/s eta 0:00:04\n",
      "   --- ------------------------------------ 4.2/44.5 MB 10.1 MB/s eta 0:00:05\n",
      "   ----- ---------------------------------- 6.6/44.5 MB 10.3 MB/s eta 0:00:04\n",
      "   -------- ------------------------------- 8.9/44.5 MB 10.6 MB/s eta 0:00:04\n",
      "   ---------- ----------------------------- 11.3/44.5 MB 10.7 MB/s eta 0:00:04\n",
      "   ------------ --------------------------- 13.6/44.5 MB 10.7 MB/s eta 0:00:03\n",
      "   -------------- ------------------------- 16.3/44.5 MB 10.8 MB/s eta 0:00:03\n",
      "   ---------------- ----------------------- 18.4/44.5 MB 10.7 MB/s eta 0:00:03\n",
      "   ------------------- -------------------- 21.5/44.5 MB 11.2 MB/s eta 0:00:03\n",
      "   ---------------------- ----------------- 25.2/44.5 MB 11.7 MB/s eta 0:00:02\n",
      "   ------------------------- -------------- 28.6/44.5 MB 12.2 MB/s eta 0:00:02\n",
      "   --------------------------- ------------ 30.7/44.5 MB 12.2 MB/s eta 0:00:02\n",
      "   ------------------------------ --------- 34.1/44.5 MB 12.2 MB/s eta 0:00:01\n",
      "   --------------------------------- ------ 37.0/44.5 MB 12.4 MB/s eta 0:00:01\n",
      "   ----------------------------------- ---- 39.3/44.5 MB 12.3 MB/s eta 0:00:01\n",
      "   -------------------------------------- - 42.5/44.5 MB 12.3 MB/s eta 0:00:01\n",
      "   ---------------------------------------  44.3/44.5 MB 12.4 MB/s eta 0:00:01\n",
      "   ---------------------------------------- 44.5/44.5 MB 12.1 MB/s eta 0:00:00\n",
      "Downloading threadpoolctl-3.5.0-py3-none-any.whl (18 kB)\n",
      "Installing collected packages: threadpoolctl, scipy, scikit-learn\n",
      "Successfully installed scikit-learn-1.5.2 scipy-1.14.1 threadpoolctl-3.5.0\n",
      "Note: you may need to restart the kernel to use updated packages.\n"
     ]
    }
   ],
   "source": [
    "pip install scikit-learn"
   ]
  },
  {
   "cell_type": "code",
   "execution_count": 12,
   "metadata": {},
   "outputs": [],
   "source": [
    "from sklearn.feature_extraction.text import CountVectorizer\n",
    "\n",
    "def preprocess_data(df):\n",
    "    \"\"\"Preprocess data to prepare it for training.\"\"\"\n",
    "    # Example: Tokenization and vectorization of text\n",
    "    vectorizer = CountVectorizer(stop_words='english')\n",
    "    X = vectorizer.fit_transform(df['text_column'])  # Replace 'text_column' with your actual column name\n",
    "    return X\n"
   ]
  },
  {
   "cell_type": "code",
   "execution_count": 14,
   "metadata": {},
   "outputs": [],
   "source": [
    "from sklearn.naive_bayes import MultinomialNB\n",
    "\n",
    "def train_model(X, y):\n",
    "    \"\"\"Train a model with the provided features and labels.\"\"\"\n",
    "    model = MultinomialNB()\n",
    "    model.fit(X, y)\n",
    "    return model\n"
   ]
  },
  {
   "cell_type": "code",
   "execution_count": 15,
   "metadata": {},
   "outputs": [
    {
     "ename": "HTTPError",
     "evalue": "404 Client Error: Not Found for url: http://localhost:8000/static/scraped_text_20230912_123456.csv",
     "output_type": "error",
     "traceback": [
      "\u001b[1;31m---------------------------------------------------------------------------\u001b[0m",
      "\u001b[1;31mHTTPError\u001b[0m                                 Traceback (most recent call last)",
      "Cell \u001b[1;32mIn[15], line 3\u001b[0m\n\u001b[0;32m      1\u001b[0m \u001b[38;5;66;03m# Fetch data from FastAPI server\u001b[39;00m\n\u001b[0;32m      2\u001b[0m csv_url \u001b[38;5;241m=\u001b[39m \u001b[38;5;124m'\u001b[39m\u001b[38;5;124mhttp://localhost:8000/static/scraped_text_20230912_123456.csv\u001b[39m\u001b[38;5;124m'\u001b[39m  \u001b[38;5;66;03m# Replace with your actual URL\u001b[39;00m\n\u001b[1;32m----> 3\u001b[0m data \u001b[38;5;241m=\u001b[39m \u001b[43mfetch_data\u001b[49m\u001b[43m(\u001b[49m\u001b[43mcsv_url\u001b[49m\u001b[38;5;241;43m=\u001b[39;49m\u001b[43mcsv_url\u001b[49m\u001b[43m)\u001b[49m\n\u001b[0;32m      5\u001b[0m \u001b[38;5;66;03m# Preprocess data\u001b[39;00m\n\u001b[0;32m      6\u001b[0m X \u001b[38;5;241m=\u001b[39m preprocess_data(data)\n",
      "Cell \u001b[1;32mIn[1], line 9\u001b[0m, in \u001b[0;36mfetch_data\u001b[1;34m(csv_url, json_url)\u001b[0m\n\u001b[0;32m      7\u001b[0m \u001b[38;5;28;01mif\u001b[39;00m csv_url:\n\u001b[0;32m      8\u001b[0m     response \u001b[38;5;241m=\u001b[39m requests\u001b[38;5;241m.\u001b[39mget(csv_url)\n\u001b[1;32m----> 9\u001b[0m     \u001b[43mresponse\u001b[49m\u001b[38;5;241;43m.\u001b[39;49m\u001b[43mraise_for_status\u001b[49m\u001b[43m(\u001b[49m\u001b[43m)\u001b[49m\n\u001b[0;32m     10\u001b[0m     \u001b[38;5;28;01mwith\u001b[39;00m \u001b[38;5;28mopen\u001b[39m(\u001b[38;5;124m'\u001b[39m\u001b[38;5;124mscraped_data.csv\u001b[39m\u001b[38;5;124m'\u001b[39m, \u001b[38;5;124m'\u001b[39m\u001b[38;5;124mwb\u001b[39m\u001b[38;5;124m'\u001b[39m) \u001b[38;5;28;01mas\u001b[39;00m file:\n\u001b[0;32m     11\u001b[0m         file\u001b[38;5;241m.\u001b[39mwrite(response\u001b[38;5;241m.\u001b[39mcontent)\n",
      "File \u001b[1;32mc:\\Users\\himan\\AppData\\Local\\Programs\\Python\\Python312\\Lib\\site-packages\\requests\\models.py:1024\u001b[0m, in \u001b[0;36mResponse.raise_for_status\u001b[1;34m(self)\u001b[0m\n\u001b[0;32m   1019\u001b[0m     http_error_msg \u001b[38;5;241m=\u001b[39m (\n\u001b[0;32m   1020\u001b[0m         \u001b[38;5;124mf\u001b[39m\u001b[38;5;124m\"\u001b[39m\u001b[38;5;132;01m{\u001b[39;00m\u001b[38;5;28mself\u001b[39m\u001b[38;5;241m.\u001b[39mstatus_code\u001b[38;5;132;01m}\u001b[39;00m\u001b[38;5;124m Server Error: \u001b[39m\u001b[38;5;132;01m{\u001b[39;00mreason\u001b[38;5;132;01m}\u001b[39;00m\u001b[38;5;124m for url: \u001b[39m\u001b[38;5;132;01m{\u001b[39;00m\u001b[38;5;28mself\u001b[39m\u001b[38;5;241m.\u001b[39murl\u001b[38;5;132;01m}\u001b[39;00m\u001b[38;5;124m\"\u001b[39m\n\u001b[0;32m   1021\u001b[0m     )\n\u001b[0;32m   1023\u001b[0m \u001b[38;5;28;01mif\u001b[39;00m http_error_msg:\n\u001b[1;32m-> 1024\u001b[0m     \u001b[38;5;28;01mraise\u001b[39;00m HTTPError(http_error_msg, response\u001b[38;5;241m=\u001b[39m\u001b[38;5;28mself\u001b[39m)\n",
      "\u001b[1;31mHTTPError\u001b[0m: 404 Client Error: Not Found for url: http://localhost:8000/static/scraped_text_20230912_123456.csv"
     ]
    }
   ],
   "source": [
    "# Fetch data from FastAPI server\n",
    "csv_url = 'http://localhost:8000/static/scraped_text_20230912_123456.csv'  # Replace with your actual URL\n",
    "data = fetch_data(csv_url=csv_url)\n",
    "\n",
    "# Preprocess data\n",
    "X = preprocess_data(data)\n",
    "y = data['label_column']  # Replace 'label_column' with your actual label column\n",
    "\n",
    "# Train the model\n",
    "model = train_model(X, y)\n"
   ]
  }
 ],
 "metadata": {
  "kernelspec": {
   "display_name": "Python 3",
   "language": "python",
   "name": "python3"
  },
  "language_info": {
   "codemirror_mode": {
    "name": "ipython",
    "version": 3
   },
   "file_extension": ".py",
   "mimetype": "text/x-python",
   "name": "python",
   "nbconvert_exporter": "python",
   "pygments_lexer": "ipython3",
   "version": "3.12.2"
  }
 },
 "nbformat": 4,
 "nbformat_minor": 2
}
